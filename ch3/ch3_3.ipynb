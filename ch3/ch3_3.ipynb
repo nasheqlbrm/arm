{
 "cells": [
  {
   "cell_type": "code",
   "execution_count": 8,
   "metadata": {
    "collapsed": false
   },
   "outputs": [],
   "source": [
    "library(ggplot2)\n",
    "library(MASS)\n",
    "library(Matrix)\n",
    "library(lme4)\n",
    "library(arm)"
   ]
  },
  {
   "cell_type": "markdown",
   "metadata": {},
   "source": [
    "In this exercise you will simulate two variables that are statistically independent of each other to see what happens when we run a regression of one on the other.\n",
    "\n",
    "*First generate 1000 data points from a normal distribution with mean 0 and standard deviation 1 by typing var1 <- rnorm(1000,0,1) in R. Generate another variable in the same way (call it var2). Run a regression of one variable on the other. Is the slope coefficient statistically significant?*"
   ]
  },
  {
   "cell_type": "code",
   "execution_count": 2,
   "metadata": {
    "collapsed": true
   },
   "outputs": [],
   "source": [
    "var1 <- rnorm(1000,0,1)\n",
    "var2 <- rnorm(1000,0,1)\n",
    "df <- data.frame(var1, var2)"
   ]
  },
  {
   "cell_type": "code",
   "execution_count": 3,
   "metadata": {
    "collapsed": false
   },
   "outputs": [
    {
     "data": {
      "text/html": [
       "<table>\n",
       "<thead><tr><th></th><th scope=col>var1</th><th scope=col>var2</th></tr></thead>\n",
       "<tbody>\n",
       "\t<tr><th scope=row>1</th><td>0.38946367</td><td>0.06023173</td></tr>\n",
       "\t<tr><th scope=row>2</th><td>-0.7523023</td><td> 1.4292396</td></tr>\n",
       "\t<tr><th scope=row>3</th><td>-0.9794951</td><td>-1.9506868</td></tr>\n",
       "</tbody>\n",
       "</table>\n"
      ],
      "text/latex": [
       "\\begin{tabular}{r|ll}\n",
       "  & var1 & var2\\\\\n",
       "\\hline\n",
       "\t1 & 0.38946367 & 0.06023173\\\\\n",
       "\t2 & -0.7523023 &  1.4292396\\\\\n",
       "\t3 & -0.9794951 & -1.9506868\\\\\n",
       "\\end{tabular}\n"
      ],
      "text/plain": [
       "        var1        var2\n",
       "1  0.3894637  0.06023173\n",
       "2 -0.7523023  1.42923957\n",
       "3 -0.9794951 -1.95068676"
      ]
     },
     "metadata": {},
     "output_type": "display_data"
    }
   ],
   "source": [
    "df[0:3,]"
   ]
  },
  {
   "cell_type": "code",
   "execution_count": 4,
   "metadata": {
    "collapsed": true
   },
   "outputs": [],
   "source": [
    "fit.1 <- lm (var1 ~ var2, df)"
   ]
  },
  {
   "cell_type": "code",
   "execution_count": 5,
   "metadata": {
    "collapsed": false
   },
   "outputs": [
    {
     "name": "stdout",
     "output_type": "stream",
     "text": [
      "lm(formula = var1 ~ var2, data = df)\n",
      "            coef.est coef.se\n",
      "(Intercept) 0.03     0.03   \n",
      "var2        0.03     0.03   \n",
      "---\n",
      "n = 1000, k = 2\n",
      "residual sd = 1.01, R-Squared = 0.00\n"
     ]
    }
   ],
   "source": [
    "display(fit.1)"
   ]
  },
  {
   "cell_type": "markdown",
   "metadata": {},
   "source": [
    "The slope coefficient is not statistically significant."
   ]
  },
  {
   "cell_type": "markdown",
   "metadata": {
    "collapsed": false
   },
   "source": [
    "*Now run a simulation repeating this process 100 times. This can be done using a loop. From each simulation, save the z-score (the estimated coefficient of var1 divided by its standard error). If the absolute value of the z-score exceeds 2, the estimate is statistically significant. Here is code to perform the simulation:*"
   ]
  },
  {
   "cell_type": "code",
   "execution_count": 6,
   "metadata": {
    "collapsed": false
   },
   "outputs": [],
   "source": [
    "z.scores <- rep (NA, 100) \n",
    "\n",
    "for (k in 1:100) {\n",
    "    var1 <- rnorm (1000,0,1)\n",
    "    var2 <- rnorm (1000,0,1)\n",
    "    fit <- lm (var2 ~ var1)\n",
    "    z.scores[k] <- coef(fit)[2]/se.coef(fit)[2]\n",
    "}"
   ]
  },
  {
   "cell_type": "markdown",
   "metadata": {},
   "source": [
    "*How many of these 100 z-scores are statistically significant?*"
   ]
  },
  {
   "cell_type": "code",
   "execution_count": 7,
   "metadata": {
    "collapsed": false
   },
   "outputs": [
    {
     "data": {
      "text/html": [
       "4"
      ],
      "text/latex": [
       "4"
      ],
      "text/markdown": [
       "4"
      ],
      "text/plain": [
       "[1] 4"
      ]
     },
     "metadata": {},
     "output_type": "display_data"
    }
   ],
   "source": [
    "sum(z.scores > 2)"
   ]
  },
  {
   "cell_type": "markdown",
   "metadata": {},
   "source": [
    "Four of the hundred z scores are statistically significant."
   ]
  }
 ],
 "metadata": {
  "anaconda-cloud": {},
  "kernelspec": {
   "display_name": "R [conda env:my-r-env]",
   "language": "R",
   "name": "conda-env-my-r-env-r"
  },
  "language_info": {
   "codemirror_mode": "r",
   "file_extension": ".r",
   "mimetype": "text/x-r-source",
   "name": "R",
   "pygments_lexer": "r",
   "version": "3.3.1"
  }
 },
 "nbformat": 4,
 "nbformat_minor": 1
}
