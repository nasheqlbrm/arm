{
 "cells": [
  {
   "cell_type": "markdown",
   "metadata": {},
   "source": [
    "Suppose that, for a certain population, we can predict log earnings from log height as follows:\n",
    "* A person who is 66 inches tall is predicted to have earnings of $30,000. \n",
    "* Every increase of 1% in height corresponds to a predicted increase of 0.8% in earnings.\n",
    "* The earnings of approximately 95% of people fall within a factor of 1.1 of predicted values."
   ]
  },
  {
   "cell_type": "markdown",
   "metadata": {},
   "source": [
    "Give the equation of the regression line and the residual standard deviation of the regression."
   ]
  },
  {
   "cell_type": "markdown",
   "metadata": {},
   "source": [
    "Let y denote earnings and x denote height. Thus,\n",
    "$ln(y) = a * ln(x) + b$ or $y = e^{a*ln(x)}*e^{b}$\n",
    "\n",
    "The second bullet implies\n",
    "$$y_{1} = e^{a*ln(x_{1})}*e^{b},$$ $$1.008*y_{1} = e^{a*ln(1.01*x_{1})}*e^{b}$$\n",
    "\n",
    "Simplifying,\n",
    "$$\\frac{1.008*y_{1}}{y_{1}} = \\frac{e^{a*ln(1.01*x_{1})}*e^{b}}{e^{a*ln(x_{1})}*e^{b}}$$\n",
    "$$1.008 * e^{a*ln(x_{1})} = e^{a*ln(1.01*x_{1})}$$\n",
    "$$1.008 = \\left[\\frac{1.01x_{1}}{x_{1}}\\right]^{a}$$\n",
    "$$1.008 = 1.01^{a}$$ "
   ]
  },
  {
   "cell_type": "code",
   "execution_count": 1,
   "metadata": {
    "collapsed": false
   },
   "outputs": [
    {
     "data": {
      "text/html": [
       "0.80079444259282"
      ],
      "text/latex": [
       "0.80079444259282"
      ],
      "text/markdown": [
       "0.80079444259282"
      ],
      "text/plain": [
       "[1] 0.8007944"
      ]
     },
     "metadata": {},
     "output_type": "display_data"
    }
   ],
   "source": [
    "a <- (log(1.008)/log(1.01))\n",
    "a"
   ]
  },
  {
   "cell_type": "markdown",
   "metadata": {},
   "source": [
    "Hence, $a = 0.8008$ The first bullet implies $ln(30000) = a * ln (66) + b,$ Subsitituting appropriately we obtain,"
   ]
  },
  {
   "cell_type": "code",
   "execution_count": 2,
   "metadata": {
    "collapsed": false
   },
   "outputs": [
    {
     "data": {
      "text/html": [
       "6.95390042684688"
      ],
      "text/latex": [
       "6.95390042684688"
      ],
      "text/markdown": [
       "6.95390042684688"
      ],
      "text/plain": [
       "[1] 6.9539"
      ]
     },
     "metadata": {},
     "output_type": "display_data"
    }
   ],
   "source": [
    "b <- log(30000) - a*log(66)\n",
    "b"
   ]
  },
  {
   "cell_type": "markdown",
   "metadata": {},
   "source": [
    "Using the value of $a$ found above the equation for the regression line is $ln(y) = 0.8008 * ln(x) + 6.9539$"
   ]
  },
  {
   "cell_type": "code",
   "execution_count": 3,
   "metadata": {
    "collapsed": false
   },
   "outputs": [
    {
     "data": {
      "text/html": [
       "30000"
      ],
      "text/latex": [
       "30000"
      ],
      "text/markdown": [
       "30000"
      ],
      "text/plain": [
       "[1] 30000"
      ]
     },
     "metadata": {},
     "output_type": "display_data"
    }
   ],
   "source": [
    "#Verify the information from the first bullet:\n",
    "exp(a*log(66) + b)"
   ]
  },
  {
   "cell_type": "markdown",
   "metadata": {},
   "source": [
    "Suppose the standard deviation of log heights is 5% in this population. What, then, is the R2 of the regression model described here?"
   ]
  },
  {
   "cell_type": "markdown",
   "metadata": {},
   "source": [
    "Roughly 95% of observations should fall within $\\pm 2 \\sigma$ of their true mean values. The third bullet tells us that, 95% of people have earnings in $[\\frac{y}{1.1}, 1.1y ]$. Taking logs, we see that 95% of people have log earnings observations in $ln(y) \\pm ln(1.1)$. Note that $ln(y)$ is the expected mean so $ln(1.1)$ must equal two standard errors or $ln(1.1) = 2*se$. Hence,"
   ]
  },
  {
   "cell_type": "code",
   "execution_count": 4,
   "metadata": {
    "collapsed": false
   },
   "outputs": [
    {
     "data": {
      "text/html": [
       "0.0476550899021625"
      ],
      "text/latex": [
       "0.0476550899021625"
      ],
      "text/markdown": [
       "0.0476550899021625"
      ],
      "text/plain": [
       "[1] 0.04765509"
      ]
     },
     "metadata": {},
     "output_type": "display_data"
    }
   ],
   "source": [
    "se <- log(1.1)/2\n",
    "se"
   ]
  },
  {
   "cell_type": "code",
   "execution_count": 5,
   "metadata": {
    "collapsed": false
   },
   "outputs": [
    {
     "data": {
      "text/html": [
       "0.0915969625667253"
      ],
      "text/latex": [
       "0.0915969625667253"
      ],
      "text/markdown": [
       "0.0915969625667253"
      ],
      "text/plain": [
       "[1] 0.09159696"
      ]
     },
     "metadata": {},
     "output_type": "display_data"
    }
   ],
   "source": [
    "#We are given that the standard deviation of the data is 0.05 (or 5%).\n",
    "Rsquared <- 1 - ((se)^2/(0.05)^2)\n",
    "Rsquared"
   ]
  }
 ],
 "metadata": {
  "anaconda-cloud": {},
  "kernelspec": {
   "display_name": "R [conda env:my-r-env]",
   "language": "R",
   "name": "conda-env-my-r-env-r"
  },
  "language_info": {
   "codemirror_mode": "r",
   "file_extension": ".r",
   "mimetype": "text/x-r-source",
   "name": "R",
   "pygments_lexer": "r",
   "version": "3.3.1"
  }
 },
 "nbformat": 4,
 "nbformat_minor": 1
}
